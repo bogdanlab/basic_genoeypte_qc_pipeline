{
 "cells": [
  {
   "cell_type": "code",
   "execution_count": 1,
   "metadata": {},
   "outputs": [],
   "source": [
    "import pyodbc\n",
    "import pandas as pd"
   ]
  },
  {
   "cell_type": "code",
   "execution_count": null,
   "metadata": {},
   "outputs": [],
   "source": [
    "atlas_query = \"\"\"\n",
    "    SELECT \n",
    "    rpt.UCLABioBankMap_V2.Bank_sample_id,\n",
    "    rpt.DIM_PatientDim.Sex\n",
    "    FROM\n",
    "        INNER JOIN rpt.UCLABioBankMap_V2\n",
    "        ON rpt.UCLABioBankMap_V2.PatientID=rpt.DIM_PatientDim.PatientID\n",
    "\"\"\"\n",
    "\n",
    "atlas_df = pd.read_sql(atlas_query, conn)\n",
    "\n",
    "atas_df.head()"
   ]
  }
 ],
 "metadata": {
  "kernelspec": {
   "display_name": "Python 3",
   "language": "python",
   "name": "python3"
  },
  "language_info": {
   "codemirror_mode": {
    "name": "ipython",
    "version": 3
   },
   "file_extension": ".py",
   "mimetype": "text/x-python",
   "name": "python",
   "nbconvert_exporter": "python",
   "pygments_lexer": "ipython3",
   "version": "3.6.8"
  }
 },
 "nbformat": 4,
 "nbformat_minor": 2
}
